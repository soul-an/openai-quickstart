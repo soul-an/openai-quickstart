{
 "cells": [
  {
   "cell_type": "markdown",
   "id": "ce5e76a5-222b-408d-b90c-19a801432e66",
   "metadata": {},
   "source": [
    "# LangChain 核心模块 Agent - ReAct\n",
    "\n",
    "ReAct 核心思想是 推理+操作，本示例以` Google Search` 和 `LLM Math` 作为可选操作集合（toolkits），实现 ReAct 功能。\n",
    "\n",
    "以下`SERPAPI_API_KEY`仅为示例，请访问 https://serpapi.com 注册账号并替换为自己的 `API_KEY`（每月100次免费调用）\n",
    "\n",
    "```python\n",
    "import os\n",
    "\n",
    "# 更换为自己的 Serp API KEY\n",
    "os.environ[\"SERPAPI_API_KEY\"] = \"xxx\"\n",
    "```\n",
    "\n",
    "建议将其设置为环境变量，而不是在代码中显式明文设置"
   ]
  },
  {
   "cell_type": "code",
   "execution_count": null,
   "id": "108d8a86-02a9-4618-b6a0-dc115c4ad532",
   "metadata": {},
   "outputs": [],
   "source": [
    "%%capture --no-stderr\n",
    "# %pip install -U langchain\n",
    "# pip install google-search-results numexpr"
   ]
  },
  {
   "cell_type": "code",
   "execution_count": 3,
   "id": "d4ab5699",
   "metadata": {},
   "outputs": [],
   "source": [
    "import os\n",
    "# os.getenv(\"SERPAPI_API_KEY\")"
   ]
  },
  {
   "cell_type": "code",
   "execution_count": 4,
   "id": "d03a5086-d453-44f2-898b-0fecb746d0c0",
   "metadata": {},
   "outputs": [],
   "source": [
    "from langchain_openai import OpenAI\n",
    "\n",
    "llm = OpenAI(model_name=\"gpt-3.5-turbo-instruct\", temperature=0)"
   ]
  },
  {
   "cell_type": "code",
   "execution_count": 7,
   "id": "9e7e7202-625a-4cec-999a-321a40115792",
   "metadata": {},
   "outputs": [],
   "source": [
    "from langchain.agents import load_tools\n",
    "from langchain.agents import initialize_agent\n",
    "from langchain.agents import AgentType\n",
    "\n",
    "# 加载 LangChain 内置的 Tools\n",
    "tools = load_tools([\"serpapi\", \"llm-math\"], llm=llm)"
   ]
  },
  {
   "cell_type": "markdown",
   "id": "d89d569f-5313-42f3-8f1a-ea45fb1ea035",
   "metadata": {},
   "source": [
    "### 使用语言模型（gpt-3.5-turbo-instruct）"
   ]
  },
  {
   "cell_type": "code",
   "execution_count": 8,
   "id": "70af3538-18c4-4c64-99a7-96b32038d31b",
   "metadata": {},
   "outputs": [
    {
     "name": "stderr",
     "output_type": "stream",
     "text": [
      "C:\\Users\\huangaf\\AppData\\Local\\Temp\\ipykernel_13624\\3898936477.py:2: LangChainDeprecationWarning: LangChain agents will continue to be supported, but it is recommended for new use cases to be built with LangGraph. LangGraph offers a more flexible and full-featured framework for building agents, including support for tool-calling, persistence of state, and human-in-the-loop workflows. For details, refer to the `LangGraph documentation <https://langchain-ai.github.io/langgraph/>`_ as well as guides for `Migrating from AgentExecutor <https://python.langchain.com/docs/how_to/migrate_agent/>`_ and LangGraph's `Pre-built ReAct agent <https://langchain-ai.github.io/langgraph/how-tos/create-react-agent/>`_.\n",
      "  agent = initialize_agent(tools, llm, agent=AgentType.ZERO_SHOT_REACT_DESCRIPTION, verbose=True)\n"
     ]
    }
   ],
   "source": [
    "# 实例化 ZERO_SHOT_REACT Agent\n",
    "agent = initialize_agent(tools, llm, agent=AgentType.ZERO_SHOT_REACT_DESCRIPTION, verbose=True)"
   ]
  },
  {
   "cell_type": "code",
   "execution_count": 9,
   "id": "484bba88-885b-4630-a9a9-b2ff6241df83",
   "metadata": {},
   "outputs": [
    {
     "name": "stdout",
     "output_type": "stream",
     "text": [
      "\n",
      "\n",
      "\u001b[1m> Entering new AgentExecutor chain...\u001b[0m\n",
      "\u001b[32;1m\u001b[1;3m I should use the search engine to find information about Leonardo DiCaprio's girlfriend.\n",
      "Action: Search\n",
      "Action Input: \"Leonardo DiCaprio girlfriend\"\u001b[0m\n",
      "Observation: \u001b[36;1m\u001b[1;3m[{'title': 'Leonardo DiCaprio’s girlfriend, 26, admits one ‘extremely annoying’ part of dating famous actor', 'link': 'https://www.foxnews.com/entertainment/leonardo-dicaprios-girlfriend-26-annoying-dating-famous-actor', 'source': 'Fox News', 'source_logo': 'https://serpapi.com/searches/67e66b760950411dbaa153eb/images/7db95bf161919ea554bc24e810ed60402da1139278b28d8a099879fc3b82c8ee.png', 'date': '2 days ago', 'thumbnail': 'https://serpapi.com/searches/67e66b760950411dbaa153eb/images/7db95bf161919ea5f1437993aeba4501fe9fba0acebd51c0.jpeg'}, {'title': \"Leonardo DiCaprio's Girlfriend Goes Topless On The Cover Of Vogue, Reveals Annoying Part Of Dating Him\", 'link': 'https://www.outkick.com/culture/leonardos-dicaprios-girlfriend-goes-topless-cover-vogue-reveals-annoying-part-dating-him', 'source': 'OutKick', 'source_logo': 'https://serpapi.com/searches/67e66b760950411dbaa153eb/images/7db95bf161919ea5631f57dfe844959a246f8694f463f88d7e6684661d635304.png', 'date': '2 days ago', 'thumbnail': 'https://serpapi.com/searches/67e66b760950411dbaa153eb/images/7db95bf161919ea5cc24078b67e8880b2a2065d86299c6fa.jpeg'}, {'title': \"Leonardo DiCaprio's Girlfriend Makes it Clear She Does Not Want to Be Referred to As 'Leonardo DiCaprio's Girlfriend'\", 'link': 'https://www.barstoolsports.com/blog/3541634/leonardo-dicaprios-girlfriend-makes-it-clear-she-does-not-want-to-be-referred-to-as-leonardo-dicaprios-girlfriend', 'source': 'Barstool Sports', 'source_logo': 'https://serpapi.com/searches/67e66b760950411dbaa153eb/images/7db95bf161919ea56ade06fd224bca1c425975b31a1cbbfb7c8a256063e191a8.png', 'date': '1 day ago', 'thumbnail': 'https://serpapi.com/searches/67e66b760950411dbaa153eb/images/7db95bf161919ea541824bea9924d255b388ee4b94430297.jpeg'}, {'title': 'Leonardo DiCaprio’s Girlfriend Makes Rare Statements About Their Relationship', 'link': 'https://entertainmentnow.com/news/vittoria-ceretti-on-leonardo-dicaprio-relationship/', 'source': 'Heavy.com', 'source_logo': 'https://serpapi.com/searches/67e66b760950411dbaa153eb/images/7db95bf161919ea50d623d26f96c0db4e58c99823321adb13261e68c2e96086a.png', 'date': '3 days ago', 'thumbnail': 'https://serpapi.com/searches/67e66b760950411dbaa153eb/images/7db95bf161919ea53904a654108da52820108789c1eba021.jpeg'}, {'title': \"Leonardo's DiCaprio's Girlfriend Reveals the 'Extremely Annoying' Part of Dating Him\", 'link': 'https://www.mensjournal.com/entertainment/leonardo-dicaprio-vittoria-ceretti-extremely-annoying-part-of-relationship', 'source': \"Men's Journal\", 'source_logo': 'https://serpapi.com/searches/67e66b760950411dbaa153eb/images/7db95bf161919ea5b597dd1314cf9ad4f9d292e4f3e30ba3243b470a1a203efb.png', 'date': '2 days ago', 'thumbnail': 'https://serpapi.com/searches/67e66b760950411dbaa153eb/images/7db95bf161919ea527cbadd3e3a65364753b1fe0e1644e19.jpeg'}]\u001b[0m\n",
      "Thought:\u001b[32;1m\u001b[1;3m I should read through the articles to find out who Leonardo DiCaprio's girlfriend is.\n",
      "Action: Search\n",
      "Action Input: \"Leonardo DiCaprio girlfriend name\"\u001b[0m\n",
      "Observation: \u001b[36;1m\u001b[1;3mVittoria Ceretti and Leonardo DiCaprio have been dating for the past two years. While the pair have been photographed on trips, parties, and dates together, they maintain their relationship as private as possible, with neither of them addressing it with the media or through social media.\u001b[0m\n",
      "Thought:\u001b[32;1m\u001b[1;3m I should use the calculator to find the answer to the second part of the question.\n",
      "Action: Calculator\n",
      "Action Input: 0.43 ** 2\u001b[0m\n",
      "Observation: \u001b[33;1m\u001b[1;3mAnswer: 0.18489999999999998\u001b[0m\n",
      "Thought:\u001b[32;1m\u001b[1;3m I now know the final answer.\n",
      "Final Answer: Vittoria Ceretti, and her current age to the power of 0.43 is approximately 0.1849.\u001b[0m\n",
      "\n",
      "\u001b[1m> Finished chain.\u001b[0m\n"
     ]
    },
    {
     "data": {
      "text/plain": [
       "{'input': '谁是莱昂纳多·迪卡普里奥的女朋友？她现在年龄的0.43次方是多少?',\n",
       " 'output': 'Vittoria Ceretti, and her current age to the power of 0.43 is approximately 0.1849.'}"
      ]
     },
     "execution_count": 9,
     "metadata": {},
     "output_type": "execute_result"
    }
   ],
   "source": [
    "agent.invoke(\"谁是莱昂纳多·迪卡普里奥的女朋友？她现在年龄的0.43次方是多少?\")"
   ]
  },
  {
   "cell_type": "code",
   "execution_count": null,
   "id": "33639fb7",
   "metadata": {},
   "outputs": [],
   "source": []
  },
  {
   "cell_type": "markdown",
   "id": "b816038d-6f3a-47cb-b614-e432db8c1883",
   "metadata": {},
   "source": [
    "### 使用聊天模型（gpt-4o-mini）"
   ]
  },
  {
   "cell_type": "code",
   "execution_count": 10,
   "id": "448c877f-577b-4277-a155-51223dc3d949",
   "metadata": {},
   "outputs": [
    {
     "name": "stdout",
     "output_type": "stream",
     "text": [
      "\n",
      "\n",
      "\u001b[1m> Entering new AgentExecutor chain...\u001b[0m\n",
      "\u001b[32;1m\u001b[1;3mThought: 我需要先查找莱昂纳多·迪卡普里奥目前的女朋友是谁，然后再计算她的年龄的0.43次方。首先，我将搜索他的女朋友的最新信息。\n",
      "Action:\n",
      "```\n",
      "{\n",
      "  \"action\": \"Search\",\n",
      "  \"action_input\": \"莱昂纳多·迪卡普里奥 现任女朋友 2023\"\n",
      "}\n",
      "```\n",
      "\u001b[0m\n",
      "Observation: \u001b[36;1m\u001b[1;3m都市现场 11月26日，据外媒爆料，50岁“小李子”莱昂纳多·迪卡普里奥与26岁超模女友Vittoria Ceretti订婚。 此次订婚消息曝出后，迅速引发了广泛关注。 小李子与Vittoria 的恋情始于2023年初，当时他们在一次活动中结识。\u001b[0m\n",
      "Thought:\u001b[32;1m\u001b[1;3m我已经找到了莱昂纳多·迪卡普里奥的现任女朋友Vittoria Ceretti，她26岁。接下来，我需要计算她年龄的0.43次方。\n",
      "\n",
      "Action:\n",
      "```\n",
      "{\n",
      "  \"action\": \"Calculator\",\n",
      "  \"action_input\": \"26^0.43\"\n",
      "}\n",
      "```\n",
      "\n",
      "\u001b[0m\n",
      "Observation: \u001b[33;1m\u001b[1;3mAnswer: 4.059182145592686\u001b[0m\n",
      "Thought:\u001b[32;1m\u001b[1;3m我现在知道最终答案\n",
      "Final Answer: 莱昂纳多·迪卡普里奥的女朋友是Vittoria Ceretti，她26岁，26的0.43次方是约4.06。\u001b[0m\n",
      "\n",
      "\u001b[1m> Finished chain.\u001b[0m\n"
     ]
    },
    {
     "data": {
      "text/plain": [
       "{'input': '谁是莱昂纳多·迪卡普里奥的女朋友？她现在年龄的0.43次方是多少?',\n",
       " 'output': '莱昂纳多·迪卡普里奥的女朋友是Vittoria Ceretti，她26岁，26的0.43次方是约4.06。'}"
      ]
     },
     "execution_count": 10,
     "metadata": {},
     "output_type": "execute_result"
    }
   ],
   "source": [
    "from langchain_openai import ChatOpenAI\n",
    "\n",
    "chat_model = ChatOpenAI(model=\"gpt-4o-mini\", temperature=0)\n",
    "agent = initialize_agent(tools, chat_model, agent=AgentType.CHAT_ZERO_SHOT_REACT_DESCRIPTION, verbose=True)\n",
    "agent.invoke(\"谁是莱昂纳多·迪卡普里奥的女朋友？她现在年龄的0.43次方是多少?\")"
   ]
  },
  {
   "cell_type": "code",
   "execution_count": null,
   "id": "67f4728e-bf1f-4643-a2ee-8f8679ddc58a",
   "metadata": {},
   "outputs": [],
   "source": []
  }
 ],
 "metadata": {
  "kernelspec": {
   "display_name": "langchain",
   "language": "python",
   "name": "python3"
  },
  "language_info": {
   "codemirror_mode": {
    "name": "ipython",
    "version": 3
   },
   "file_extension": ".py",
   "mimetype": "text/x-python",
   "name": "python",
   "nbconvert_exporter": "python",
   "pygments_lexer": "ipython3",
   "version": "3.10.16"
  }
 },
 "nbformat": 4,
 "nbformat_minor": 5
}
